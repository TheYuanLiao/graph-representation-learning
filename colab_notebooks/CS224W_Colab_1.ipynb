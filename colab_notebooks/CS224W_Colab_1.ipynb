{
 "nbformat": 4,
 "nbformat_minor": 0,
 "metadata": {
  "kernelspec": {
   "display_name": "Python 3",
   "language": "python",
   "name": "python3"
  },
  "language_info": {
   "codemirror_mode": {
    "name": "ipython",
    "version": 3
   },
   "file_extension": ".py",
   "mimetype": "text/x-python",
   "name": "python",
   "nbconvert_exporter": "python",
   "pygments_lexer": "ipython3",
   "version": "3.7.3"
  },
  "colab": {
   "name": "CS224W - Colab 1.ipynb",
   "provenance": [],
   "collapsed_sections": [],
   "toc_visible": true,
   "machine_shape": "hm",
   "include_colab_link": true
  }
 },
 "cells": [
  {
   "cell_type": "markdown",
   "metadata": {
    "id": "view-in-github",
    "colab_type": "text"
   },
   "source": [
    "<a href=\"https://colab.research.google.com/github/TheYuanLiao/graph-representation-learning/blob/master/colab_notebooks/CS224W_Colab_1.ipynb\" target=\"_parent\"><img src=\"https://colab.research.google.com/assets/colab-badge.svg\" alt=\"Open In Colab\"/></a>"
   ]
  },
  {
   "cell_type": "markdown",
   "metadata": {
    "id": "XuXWJLEm2UWS"
   },
   "source": [
    "# **CS224W - Colab 1**"
   ]
  },
  {
   "cell_type": "markdown",
   "metadata": {
    "id": "8gzsP50bF6Gb"
   },
   "source": [
    "In this Colab, we will write a full pipeline for **learning node embeddings**.\n",
    "We will go through the following 3 steps.\n",
    "\n",
    "To start, we will load a classic graph in network science, the [Karate Club Network](https://en.wikipedia.org/wiki/Zachary%27s_karate_club). We will explore multiple graph statistics for that graph.\n",
    "\n",
    "We will then work together to transform the graph structure into a PyTorch tensor, so that we can perform machine learning over the graph.\n",
    "\n",
    "Finally, we will finish the first learning algorithm on graphs: a node embedding model. For simplicity, our model here is simpler than DeepWalk / node2vec algorithms taught in the lecture. But it's still rewarding and challenging, as we will write it from scratch via PyTorch.\n",
    "\n",
    "Now let's get started!\n",
    "\n",
    "**Note**: Make sure to **sequentially run all the cells**, so that the intermediate variables / packages will carry over to the next cell"
   ]
  },
  {
   "cell_type": "markdown",
   "metadata": {
    "id": "Nwwq0nSdmsOL"
   },
   "source": [
    "# 1 Graph Basics\n",
    "To start, we will load a classic graph in network science, the [Karate Club Network](https://en.wikipedia.org/wiki/Zachary%27s_karate_club). We will explore multiple graph statistics for that graph."
   ]
  },
  {
   "cell_type": "markdown",
   "metadata": {
    "id": "FDkpByYYfSzb"
   },
   "source": [
    "## Setup\n",
    "We will heavily use NetworkX in this Colab."
   ]
  },
  {
   "cell_type": "code",
   "metadata": {
    "id": "VWPkJjPAfVNW"
   },
   "source": [
    "import networkx as nx"
   ],
   "execution_count": 1,
   "outputs": []
  },
  {
   "cell_type": "markdown",
   "metadata": {
    "id": "VqUnYT5qUZYh"
   },
   "source": [
    "## Zachary's karate club network\n",
    "\n",
    "The [Karate Club Network](https://en.wikipedia.org/wiki/Zachary%27s_karate_club) is a graph describes a social network of 34 members of a karate club and documents links between members who interacted outside the club."
   ]
  },
  {
   "cell_type": "code",
   "metadata": {
    "id": "VIETqEfrfy5Y"
   },
   "source": [
    "G = nx.karate_club_graph()\n",
    "\n",
    "# G is an undirected graph\n",
    "type(G)"
   ],
   "execution_count": 2,
   "outputs": [
    {
     "data": {
      "text/plain": "networkx.classes.graph.Graph"
     },
     "execution_count": 2,
     "metadata": {},
     "output_type": "execute_result"
    }
   ]
  },
  {
   "cell_type": "code",
   "metadata": {
    "id": "hDvf3nm-ors4"
   },
   "source": [
    "# Visualize the graph\n",
    "nx.draw(G, with_labels = True)"
   ],
   "execution_count": 3,
   "outputs": []
  },
  {
   "cell_type": "markdown",
   "metadata": {
    "id": "FX25Y1CrYmgN"
   },
   "source": [
    "## Question 1: What is the average degree of the karate club network? (5 Points)"
   ]
  },
  {
   "cell_type": "code",
   "metadata": {
    "id": "AUhES1VYo3tB"
   },
   "source": [
    "def average_degree(num_edges, num_nodes):\n",
    "  # TODO: Implement this function that takes number of edges\n",
    "  # and number of nodes, and returns the average node degree of \n",
    "  # the graph. Round the result to nearest integer (for example \n",
    "  # 3.3 will be rounded to 3 and 3.7 will be rounded to 4)\n",
    "\n",
    "  avg_degree = 0\n",
    "\n",
    "  ############# Your code here ############\n",
    "  avg_degree = round(num_edges * 2/num_nodes)\n",
    "\n",
    "  #########################################\n",
    "\n",
    "  return avg_degree\n",
    "\n",
    "num_edges = G.number_of_edges()\n",
    "num_nodes = G.number_of_nodes()\n",
    "avg_degree = average_degree(num_edges, num_nodes)\n",
    "print(\"Average degree of karate club network is {}\".format(avg_degree))"
   ],
   "execution_count": 4,
   "outputs": [
    {
     "name": "stdout",
     "output_type": "stream",
     "text": [
      "Average degree of karate club network is 5\n"
     ]
    }
   ]
  },
  {
   "cell_type": "markdown",
   "metadata": {
    "id": "Fk02fD4vYmZI"
   },
   "source": [
    "## Question 2: What is the average clustering coefficient of the karate club network? (5 Points)"
   ]
  },
  {
   "cell_type": "code",
   "metadata": {
    "id": "k15XKEto1aYJ"
   },
   "source": [
    "def average_clustering_coefficient(G):\n",
    "  # TODO: Implement this function that takes a nx.Graph\n",
    "  # and returns the average clustering coefficient. Round \n",
    "  # the result to 2 decimal places (for example 3.333 will\n",
    "  # be rounded to 3.33 and 3.7571 will be rounded to 3.76)\n",
    "\n",
    "  avg_cluster_coef = 0\n",
    "\n",
    "  ############# Your code here ############\n",
    "  ## Note: \n",
    "  ## 1: Please use the appropriate NetworkX clustering function\n",
    "  cluster_coef = nx.clustering(G)\n",
    "  avg_cluster_coef = sum([v for k,v in cluster_coef.items()]) / len(cluster_coef)\n",
    "  avg_cluster_coef = round(avg_cluster_coef, 2)\n",
    "  #########################################\n",
    "\n",
    "  return avg_cluster_coef\n",
    "\n",
    "avg_cluster_coef = average_clustering_coefficient(G)\n",
    "print(\"Average clustering coefficient of karate club network is {}\".format(avg_cluster_coef))"
   ],
   "execution_count": 7,
   "outputs": [
    {
     "name": "stdout",
     "output_type": "stream",
     "text": [
      "Average clustering coefficient of karate club network is 0.57\n"
     ]
    }
   ]
  },
  {
   "cell_type": "markdown",
   "metadata": {
    "id": "zghQ-AhXYmP4"
   },
   "source": [
    "## Question 3: What is the PageRank value for node 0 (node with id 0) after one PageRank iteration? (5 Points)\n",
    "\n",
    "Please complete the code block by implementing the PageRank equation: $r_j = \\sum_{i \\rightarrow j} \\beta \\frac{r_i}{d_i} + (1 - \\beta) \\frac{1}{N}$"
   ]
  },
  {
   "cell_type": "code",
   "metadata": {
    "id": "BOGdWjNc6O7x"
   },
   "source": [
    "def one_iter_pagerank(G, beta, r0, node_id):\n",
    "  # TODO: Implement this function that takes a nx.Graph, beta, r0 and node id.\n",
    "  # The return value r1 is one interation PageRank value for the input node.\n",
    "  # Please round r1 to 2 decimal places.\n",
    "\n",
    "  r1 = 0\n",
    "\n",
    "  ############# Your code here ############\n",
    "  ## Note: \n",
    "  ## 1: You should not use nx.pagerank\n",
    "\n",
    "  #########################################\n",
    "\n",
    "  return r1\n",
    "\n",
    "beta = 0.8\n",
    "r0 = 1 / G.number_of_nodes()\n",
    "node = 0\n",
    "r1 = one_iter_pagerank(G, beta, r0, node)\n",
    "print(\"The PageRank value for node 0 after one iteration is {}\".format(r1))"
   ],
   "execution_count": null,
   "outputs": []
  },
  {
   "cell_type": "markdown",
   "metadata": {
    "id": "icTcOULeYmIu"
   },
   "source": [
    "## Question 4: What is the (raw) closeness centrality for the karate club network node 5? (5 Points)\n",
    "\n",
    "The equation for closeness centrality is $c(v) = \\frac{1}{\\sum_{u \\neq v}\\text{shortest path length between } u \\text{ and } v}$"
   ]
  },
  {
   "cell_type": "code",
   "metadata": {
    "id": "XbCsq_tl-3ok"
   },
   "source": [
    "def closeness_centrality(G, node=5):\n",
    "  # TODO: Implement the function that calculates closeness centrality \n",
    "  # for a node in karate club network. G is the input karate club \n",
    "  # network and node is the node id in the graph. Please round the \n",
    "  # closeness centrality result to 2 decimal places.\n",
    "\n",
    "  closeness = 0\n",
    "\n",
    "  ## Note:\n",
    "  ## 1: You can use networkx closeness centrality function.\n",
    "  ## 2: Notice that networkx closeness centrality returns the normalized \n",
    "  ## closeness directly, which is different from the raw (unnormalized) \n",
    "  ## one that we learned in the lecture.\n",
    "\n",
    "  #########################################\n",
    "\n",
    "  return closeness\n",
    "\n",
    "node = 5\n",
    "closeness = closeness_centrality(G, node=node)\n",
    "print(\"The karate club network has closeness centrality {}\".format(closeness))"
   ],
   "execution_count": null,
   "outputs": []
  },
  {
   "cell_type": "markdown",
   "metadata": {
    "id": "-MxvowibYl4x"
   },
   "source": [
    "# 2 Graph to Tensor\n",
    "We will then work together to transform the graph $G$ into a PyTorch tensor, so that we can perform machine learning over the graph."
   ]
  },
  {
   "cell_type": "markdown",
   "metadata": {
    "id": "eDA8PosrA-9V"
   },
   "source": [
    "## Setup\n",
    "Check if PyTorch is properly installed"
   ]
  },
  {
   "cell_type": "code",
   "metadata": {
    "id": "ntuPVat_BAf1"
   },
   "source": [
    "import torch\n",
    "print(torch.__version__)"
   ],
   "execution_count": 8,
   "outputs": [
    {
     "name": "stdout",
     "output_type": "stream",
     "text": [
      "1.9.0+cu102\n"
     ]
    }
   ]
  },
  {
   "cell_type": "markdown",
   "metadata": {
    "id": "fko_2wSKYlun"
   },
   "source": [
    "## PyTorch tensor basics\n",
    "\n",
    "We can generate PyTorch tensor with all zeros, ones or random values."
   ]
  },
  {
   "cell_type": "code",
   "metadata": {
    "id": "W2ySw3m-A9qF"
   },
   "source": [
    "# Generate 3 x 4 tensor with all ones\n",
    "ones = torch.ones(3, 4)\n",
    "print(ones)\n",
    "\n",
    "# Generate 3 x 4 tensor with all zeros\n",
    "zeros = torch.zeros(3, 4)\n",
    "print(zeros)\n",
    "\n",
    "# Generate 3 x 4 tensor with random values on the interval [0, 1)\n",
    "random_tensor = torch.rand(3, 4)\n",
    "print(random_tensor)\n",
    "\n",
    "# Get the shape of the tensor\n",
    "print(ones.shape)"
   ],
   "execution_count": 9,
   "outputs": [
    {
     "name": "stdout",
     "output_type": "stream",
     "text": [
      "tensor([[1., 1., 1., 1.],\n",
      "        [1., 1., 1., 1.],\n",
      "        [1., 1., 1., 1.]])\n",
      "tensor([[0., 0., 0., 0.],\n",
      "        [0., 0., 0., 0.],\n",
      "        [0., 0., 0., 0.]])\n",
      "tensor([[0.0968, 0.5975, 0.1923, 0.9360],\n",
      "        [0.0879, 0.0916, 0.7246, 0.4590],\n",
      "        [0.1155, 0.5686, 0.4141, 0.3297]])\n",
      "torch.Size([3, 4])\n"
     ]
    }
   ]
  },
  {
   "cell_type": "markdown",
   "metadata": {
    "id": "x8mp66eHBxWC"
   },
   "source": [
    "PyTorch tensor contains elements for a single data type, the `dtype`."
   ]
  },
  {
   "cell_type": "code",
   "metadata": {
    "id": "rQiOvKJJBwq4"
   },
   "source": [
    "# Create a 3 x 4 tensor with all 32-bit floating point zeros\n",
    "zeros = torch.zeros(3, 4, dtype=torch.float32)\n",
    "print(zeros.dtype)\n",
    "\n",
    "# Change the tensor dtype to 64-bit integer\n",
    "zeros = zeros.type(torch.long)\n",
    "print(zeros.dtype)"
   ],
   "execution_count": 10,
   "outputs": [
    {
     "name": "stdout",
     "output_type": "stream",
     "text": [
      "torch.float32\n",
      "torch.int64\n"
     ]
    }
   ]
  },
  {
   "cell_type": "markdown",
   "metadata": {
    "id": "I9EfegIRDkk2"
   },
   "source": [
    "## Question 5: Getting the edge list of the karate club network and transform it into `torch.LongTensor`. What is the `torch.sum` value of `pos_edge_index` tensor? (10 Points)"
   ]
  },
  {
   "cell_type": "code",
   "metadata": {
    "id": "kEtVxMFID3ZT"
   },
   "source": [
    "def graph_to_edge_list(G):\n",
    "  # TODO: Implement the function that returns the edge list of\n",
    "  # an nx.Graph. The returned edge_list should be a list of tuples\n",
    "  # where each tuple is a tuple representing an edge connected \n",
    "  # by two nodes.\n",
    "\n",
    "  edge_list = []\n",
    "\n",
    "  ############# Your code here ############\n",
    "  edge_list = list(G.edges)\n",
    "\n",
    "  #########################################\n",
    "\n",
    "  return edge_list\n",
    "\n",
    "def edge_list_to_tensor(edge_list):\n",
    "  # TODO: Implement the function that transforms the edge_list to\n",
    "  # tensor. The input edge_list is a list of tuples and the resulting\n",
    "  # tensor should have the shape [2 x len(edge_list)].\n",
    "\n",
    "  edge_index = torch.tensor([])\n",
    "\n",
    "  ############# Your code here ############\n",
    "  edge_index = torch.tensor(edge_list)\n",
    "  edge_index = edge_index.type(torch.LongTensor)\n",
    "  edge_index = torch.transpose(edge_index, 0, 1)\n",
    "  #########################################\n",
    "\n",
    "  return edge_index\n",
    "\n",
    "pos_edge_list = graph_to_edge_list(G)\n",
    "pos_edge_index = edge_list_to_tensor(pos_edge_list)\n",
    "print(\"The pos_edge_index tensor has shape {}\".format(pos_edge_index.shape))\n",
    "print(\"The pos_edge_index tensor has sum value {}\".format(torch.sum(pos_edge_index)))"
   ],
   "execution_count": 18,
   "outputs": [
    {
     "name": "stdout",
     "output_type": "stream",
     "text": [
      "The pos_edge_index tensor has shape torch.Size([2, 78])\n",
      "The pos_edge_index tensor has sum value 2535\n"
     ]
    }
   ]
  },
  {
   "cell_type": "markdown",
   "metadata": {
    "id": "UBL-ZmdHWqIu"
   },
   "source": [
    "## Question 6: Please implement following function that samples negative edges. Then you will answer which edges (edge_1 to edge_5) can be negative ones in the karate club network? (10 Points)"
   ]
  },
  {
   "cell_type": "code",
   "metadata": {
    "id": "9N8VT1f8-IJ8"
   },
   "source": [
    "import random\n",
    "from torch_geometric.utils import from_networkx, negative_sampling\n",
    "\n",
    "def sample_negative_edges(G, num_neg_samples):\n",
    "  # TODO: Implement the function that returns a list of negative edges.\n",
    "  # The number of sampled negative edges is num_neg_samples. You do not\n",
    "  # need to consider the corner case when the number of possible negative edges\n",
    "  # is less than num_neg_samples. It should be ok as long as your implementation \n",
    "  # works on the karate club network. In this implementation, self loop should \n",
    "  # not be considered as either a positive or negative edge. Also, notice that \n",
    "  # the karate club network is an undirected graph, if (0, 1) is a positive \n",
    "  # edge, do you think (1, 0) can be a negative one?\n",
    "\n",
    "  neg_edge_list = []\n",
    "\n",
    "  ############# Your code here ############\n",
    "\n",
    "  #########################################\n",
    "\n",
    "  return neg_edge_list\n",
    "\n",
    "# Sample 78 negative edges\n",
    "# neg_edge_list = sample_negative_edges(G, len(pos_edge_list))\n",
    "G_t = from_networkx(G)\n",
    "neg_edge_index = negative_sampling(G_t.edge_index, num_neg_samples=len(pos_edge_list))\n",
    "# Transform the negative edge list to tensor\n",
    "#neg_edge_index = edge_list_to_tensor(neg_edge_list)\n",
    "print(\"The neg_edge_index tensor has shape {}\".format(neg_edge_index.shape))\n",
    "\n",
    "# Which of following edges can be negative ones?\n",
    "edge_1 = (7, 1)\n",
    "edge_2 = (1, 33)\n",
    "edge_3 = (33, 22)\n",
    "edge_4 = (0, 4)\n",
    "edge_5 = (4, 2)\n",
    "\n",
    "############# Your code here ############\n",
    "## Note:\n",
    "## 1: For each of the 5 edges, print whether it can be negative edge\n",
    "edge_list = [edge_1, edge_2, edge_3, edge_4, edge_5]\n",
    "neg_list = list(torch.transpose(neg_edge_index, 0, 1))\n",
    "for edge in edge_list:\n",
    "  if any([(torch.tensor(edge) == x).all() for x in neg_list]):\n",
    "      print(edge, 'in the list')\n",
    "#########################################"
   ],
   "execution_count": 64,
   "outputs": [
    {
     "name": "stdout",
     "output_type": "stream",
     "text": [
      "The neg_edge_index tensor has shape torch.Size([2, 78])\n"
     ]
    }
   ]
  },
  {
   "cell_type": "markdown",
   "metadata": {
    "id": "Wk9Q-a-9qGsw"
   },
   "source": [
    "# 3 Node Emebedding Learning\n",
    "\n",
    "Finally, we will finish the first learning algorithm on graphs: a node embedding model.\n"
   ]
  },
  {
   "cell_type": "markdown",
   "metadata": {
    "id": "NDBxRQcZ_dUH"
   },
   "source": [
    "## Setup"
   ]
  },
  {
   "cell_type": "code",
   "metadata": {
    "id": "Lnqn9H6s_ehX"
   },
   "source": [
    "import torch\n",
    "import torch.nn as nn\n",
    "import matplotlib.pyplot as plt\n",
    "from sklearn.decomposition import PCA\n",
    "\n",
    "print(torch.__version__)"
   ],
   "execution_count": 22,
   "outputs": [
    {
     "name": "stdout",
     "output_type": "stream",
     "text": [
      "1.9.0+cu102\n"
     ]
    }
   ]
  },
  {
   "cell_type": "markdown",
   "metadata": {
    "id": "6gomAf8vxq0R"
   },
   "source": [
    "To write our own node embedding learning methods, we'll heavily use the [`nn.Embedding`](https://pytorch.org/docs/stable/generated/torch.nn.Embedding.html) module in PyTorch. Let's see how to use `nn.Embedding`:"
   ]
  },
  {
   "cell_type": "code",
   "metadata": {
    "id": "aRiWGuLAx5yx"
   },
   "source": [
    "# Initialize an embedding layer\n",
    "# Suppose we want to have embedding for 4 items (e.g., nodes)\n",
    "# Each item is represented with 8 dimensional vector\n",
    "\n",
    "emb_sample = nn.Embedding(num_embeddings=4, embedding_dim=8)\n",
    "print('Sample embedding layer: {}'.format(emb_sample))"
   ],
   "execution_count": 66,
   "outputs": [
    {
     "name": "stdout",
     "output_type": "stream",
     "text": [
      "Sample embedding layer: Embedding(4, 8)\n"
     ]
    }
   ]
  },
  {
   "cell_type": "markdown",
   "metadata": {
    "id": "bS9qQfeujEVh"
   },
   "source": [
    "We can select items from the embedding matrix, by using Tensor indices"
   ]
  },
  {
   "cell_type": "code",
   "metadata": {
    "id": "9AGIfP4QEDr8"
   },
   "source": [
    "# Select an embedding in emb_sample\n",
    "id = torch.LongTensor([1])\n",
    "print(emb_sample(id))\n",
    "\n",
    "# Select multiple embeddings\n",
    "ids = torch.LongTensor([1, 3])\n",
    "print(emb_sample(ids))\n",
    "\n",
    "# Get the shape of the embedding weight matrix\n",
    "shape = emb_sample.weight.data.shape\n",
    "print(shape)\n",
    "\n",
    "# Overwrite the weight to tensor with all ones\n",
    "emb_sample.weight.data = torch.ones(shape)\n",
    "\n",
    "# Let's check if the emb is indeed initilized\n",
    "ids = torch.LongTensor([0, 3])\n",
    "print(emb_sample(ids))"
   ],
   "execution_count": 67,
   "outputs": [
    {
     "name": "stdout",
     "output_type": "stream",
     "text": [
      "tensor([[ 0.0101,  0.8362,  1.2051, -0.0683, -0.4875, -0.4971,  1.4690,  0.0375]],\n",
      "       grad_fn=<EmbeddingBackward>)\n",
      "tensor([[ 0.0101,  0.8362,  1.2051, -0.0683, -0.4875, -0.4971,  1.4690,  0.0375],\n",
      "        [ 0.6357, -0.7775, -0.0557, -0.0443,  2.0859,  0.1051,  0.0199, -0.6802]],\n",
      "       grad_fn=<EmbeddingBackward>)\n",
      "torch.Size([4, 8])\n",
      "tensor([[1., 1., 1., 1., 1., 1., 1., 1.],\n",
      "        [1., 1., 1., 1., 1., 1., 1., 1.]], grad_fn=<EmbeddingBackward>)\n"
     ]
    }
   ]
  },
  {
   "cell_type": "markdown",
   "metadata": {
    "id": "8MjBuDKaKIsM"
   },
   "source": [
    "Now, it's your time to create node embedding matrix for the graph we have!\n",
    "- We want to have **16 dimensional** vector for each node in the karate club network.\n",
    "- We want to initalize the matrix under **uniform distribution**, in the range of $[0, 1)$. We suggest you using [`torch.rand`](https://pytorch.org/docs/stable/generated/torch.rand.html)."
   ]
  },
  {
   "cell_type": "code",
   "metadata": {
    "id": "hMszSwRPKGn1"
   },
   "source": [
    "# Please do not change / reset the random seed\n",
    "torch.manual_seed(1)\n",
    "\n",
    "def create_node_emb(num_node=34, embedding_dim=16):\n",
    "  # TODO: Implement this function that will create the node embedding matrix.\n",
    "  # A torch.nn.Embedding layer will be returned. You do not need to change \n",
    "  # the values of num_node and embedding_dim. The weight matrix of returned \n",
    "  # layer should be initialized under uniform distribution. \n",
    "\n",
    "  emb = None\n",
    "\n",
    "  ############# Your code here ############\n",
    "  emb = nn.Embedding(num_embeddings=num_node, embedding_dim=embedding_dim)\n",
    "  shape = emb.weight.data.shape\n",
    "  emb.weight.data = torch.rand(shape)\n",
    "  #########################################\n",
    "\n",
    "  return emb\n",
    "\n",
    "emb = create_node_emb()\n",
    "ids = torch.LongTensor([0, 3])\n",
    "\n",
    "# Print the embedding layer\n",
    "print(\"Embedding: {}\".format(emb))\n",
    "\n",
    "# An example that gets the embeddings for node 0 and 3\n",
    "print(emb(ids))"
   ],
   "execution_count": 68,
   "outputs": [
    {
     "name": "stdout",
     "output_type": "stream",
     "text": [
      "Embedding: Embedding(34, 16)\n",
      "tensor([[0.2114, 0.7335, 0.1433, 0.9647, 0.2933, 0.7951, 0.5170, 0.2801, 0.8339,\n",
      "         0.1185, 0.2355, 0.5599, 0.8966, 0.2858, 0.1955, 0.1808],\n",
      "        [0.7486, 0.6546, 0.3843, 0.9820, 0.6012, 0.3710, 0.4929, 0.9915, 0.8358,\n",
      "         0.4629, 0.9902, 0.7196, 0.2338, 0.0450, 0.7906, 0.9689]],\n",
      "       grad_fn=<EmbeddingBackward>)\n"
     ]
    }
   ]
  },
  {
   "cell_type": "markdown",
   "metadata": {
    "id": "4QfoANibTzyh"
   },
   "source": [
    "## Visualize the initial node embeddings\n",
    "One good way to understand an embedding matrix, is to visualize it in a 2D space.\n",
    "Here, we have implemented an embedding visualization function for you.\n",
    "We first do PCA to reduce the dimensionality of embeddings to a 2D space.\n",
    "Then visualize each point, colored by the community it belongs to."
   ]
  },
  {
   "cell_type": "code",
   "metadata": {
    "id": "_LCoIkarhfYD"
   },
   "source": [
    "def visualize_emb(emb):\n",
    "  X = emb.weight.data.numpy()\n",
    "  pca = PCA(n_components=2)\n",
    "  components = pca.fit_transform(X)\n",
    "  plt.figure(figsize=(6, 6))\n",
    "  club1_x = []\n",
    "  club1_y = []\n",
    "  club2_x = []\n",
    "  club2_y = []\n",
    "  for node in G.nodes(data=True):\n",
    "    if node[1]['club'] == 'Mr. Hi':\n",
    "      club1_x.append(components[node[0]][0])\n",
    "      club1_y.append(components[node[0]][1])\n",
    "    else:\n",
    "      club2_x.append(components[node[0]][0])\n",
    "      club2_y.append(components[node[0]][1])\n",
    "  plt.scatter(club1_x, club1_y, color=\"red\", label=\"Mr. Hi\")\n",
    "  plt.scatter(club2_x, club2_y, color=\"blue\", label=\"Officer\")\n",
    "  plt.legend()\n",
    "  plt.show()\n",
    "\n",
    "# Visualize the initial random embeddding\n",
    "visualize_emb(emb)"
   ],
   "execution_count": 69,
   "outputs": [
    {
     "data": {
      "text/plain": "<Figure size 432x432 with 1 Axes>",
      "image/png": "[encoded data removed]"
     },
     "metadata": {
      "needs_background": "light"
     },
     "output_type": "display_data"
    }
   ]
  },
  {
   "cell_type": "markdown",
   "metadata": {
    "id": "bQIyuEz9ANb2"
   },
   "source": [
    "## Question 7: Training the embedding! What is the best performance you can get? Please report both the best loss and accuracy on Gradescope. (20 Points)"
   ]
  },
  {
   "cell_type": "code",
   "metadata": {
    "id": "RDeQTNNxqH0j"
   },
   "source": [
    "from torch.optim import SGD\n",
    "\n",
    "def accuracy(pred, label):\n",
    "  # TODO: Implement the accuracy function. This function takes the \n",
    "  # pred tensor (the resulting tensor after sigmoid) and the label \n",
    "  # tensor (torch.LongTensor). Predicted value greater than 0.5 will \n",
    "  # be classified as label 1. Else it will be classified as label 0.\n",
    "  # The returned accuracy should be rounded to 4 decimal places. \n",
    "  # For example, accuracy 0.82956 will be rounded to 0.8296.\n",
    "\n",
    "  accu = 0.0\n",
    "\n",
    "  ############# Your code here ############\n",
    "  pred_label = pred.ge(0.5)\n",
    "  accu = torch.sum(pred_label == label) / label.shape[0]\n",
    "  accu = round(accu.item(), 4)\n",
    "\n",
    "  #########################################\n",
    "\n",
    "  return accu\n",
    "\n",
    "def train(emb, loss_fn, sigmoid, train_label, train_edge):\n",
    "  # TODO: Train the embedding layer here. You can also change epochs and \n",
    "  # learning rate. In general, you need to implement: \n",
    "  # (1) Get the embeddings of the nodes in train_edge\n",
    "  # (2) Dot product the embeddings between each node pair\n",
    "  # (3) Feed the dot product result into sigmoid\n",
    "  # (4) Feed the sigmoid output into the loss_fn\n",
    "  # (5) Print both loss and accuracy of each epoch \n",
    "  # (as a sanity check, the loss should decrease during training)\n",
    "\n",
    "  epochs = 500\n",
    "  learning_rate = 0.1\n",
    "\n",
    "  optimizer = SGD(emb.parameters(), lr=learning_rate, momentum=0.9)\n",
    "\n",
    "  for i in range(epochs):\n",
    "\n",
    "    ############# Your code here ############\n",
    "    optimizer.zero_grad()  # Clear gradients.\n",
    "    # (1) Get the embeddings of the nodes in train_edge\n",
    "    embeddings_origin = emb(train_edge[0])\n",
    "    embeddings_desti = emb(train_edge[1])\n",
    "    # (2) Dot product the embeddings between each node pair\n",
    "    product = torch.mul(embeddings_origin, embeddings_desti)\n",
    "    product = torch.sum(product, dim=1)\n",
    "    # (3) Feed the dot product result into sigmoid\n",
    "    pred = sigmoid(product)\n",
    "\n",
    "    # (4) Feed the sigmoid output into the loss_fn\n",
    "    loss = loss_fn(pred, train_label)  # Compute the loss\n",
    "    loss.backward()  # Derive gradients.\n",
    "    optimizer.step()  # Update parameters based on gradients.\n",
    "    # (5) Print both loss and accuracy of each epoch\n",
    "    accu = accuracy(pred, train_label)\n",
    "    if i % 100 == 0:\n",
    "      visualize_emb(emb)\n",
    "    print(\"loss: {}, accuracy: {}\".format(loss.item(), accu))\n",
    "    #########################################\n",
    "\n",
    "loss_fn = nn.BCELoss()\n",
    "sigmoid = nn.Sigmoid()\n",
    "\n",
    "# Generate the positive and negative labels\n",
    "pos_label = torch.ones(pos_edge_index.shape[1], )\n",
    "neg_label = torch.zeros(neg_edge_index.shape[1], )\n",
    "\n",
    "# Concat positive and negative labels into one tensor\n",
    "train_label = torch.cat([pos_label, neg_label], dim=0)\n",
    "\n",
    "# Concat positive and negative edges into one tensor\n",
    "# Since the network is very small, we do not split the edges into val/test sets\n",
    "train_edge = torch.cat([pos_edge_index, neg_edge_index], dim=1)\n",
    "\n",
    "train(emb, loss_fn, sigmoid, train_label, train_edge)"
   ],
   "execution_count": 92,
   "outputs": [
    {
     "data": {
      "text/plain": "<Figure size 432x432 with 1 Axes>",
      "image/png": "[encoded data removed]"
     },
     "metadata": {
      "needs_background": "light"
     },
     "output_type": "display_data"
    },
    {
     "name": "stdout",
     "output_type": "stream",
     "text": [
      "loss: 2.0292112827301025, accuracy: 0.5\n",
      "loss: 2.01601243019104, accuracy: 0.5\n",
      "loss: 1.9911315441131592, accuracy: 0.5\n",
      "loss: 1.956095576286316, accuracy: 0.5\n",
      "loss: 1.9124081134796143, accuracy: 0.5\n",
      "loss: 1.861522912979126, accuracy: 0.5\n",
      "loss: 1.8048272132873535, accuracy: 0.5\n",
      "loss: 1.7436285018920898, accuracy: 0.5\n",
      "loss: 1.6791434288024902, accuracy: 0.5\n",
      "loss: 1.6124917268753052, accuracy: 0.5\n",
      "loss: 1.5446927547454834, accuracy: 0.5\n",
      "loss: 1.4766607284545898, accuracy: 0.5\n",
      "loss: 1.4092031717300415, accuracy: 0.5\n",
      "loss: 1.343022108078003, accuracy: 0.5\n",
      "loss: 1.2787116765975952, accuracy: 0.5\n",
      "loss: 1.2167632579803467, accuracy: 0.5\n",
      "loss: 1.1575660705566406, accuracy: 0.5\n",
      "loss: 1.101413607597351, accuracy: 0.5\n",
      "loss: 1.0485084056854248, accuracy: 0.5\n",
      "loss: 0.998970627784729, accuracy: 0.5\n",
      "loss: 0.9528462290763855, accuracy: 0.5064\n",
      "loss: 0.9101168513298035, accuracy: 0.5064\n",
      "loss: 0.8707099556922913, accuracy: 0.5128\n",
      "loss: 0.834509015083313, accuracy: 0.5128\n",
      "loss: 0.8013639450073242, accuracy: 0.5192\n",
      "loss: 0.7710996270179749, accuracy: 0.5321\n",
      "loss: 0.7435253858566284, accuracy: 0.5449\n",
      "loss: 0.7184415459632874, accuracy: 0.5449\n",
      "loss: 0.695646345615387, accuracy: 0.5513\n",
      "loss: 0.6749400496482849, accuracy: 0.5513\n",
      "loss: 0.6561295390129089, accuracy: 0.5577\n",
      "loss: 0.6390308737754822, accuracy: 0.5769\n",
      "loss: 0.6234709620475769, accuracy: 0.5897\n",
      "loss: 0.6092889308929443, accuracy: 0.5962\n",
      "loss: 0.5963367223739624, accuracy: 0.6218\n",
      "loss: 0.5844790935516357, accuracy: 0.6282\n",
      "loss: 0.5735934376716614, accuracy: 0.6474\n",
      "loss: 0.5635690093040466, accuracy: 0.6538\n",
      "loss: 0.5543064475059509, accuracy: 0.6731\n",
      "loss: 0.5457170009613037, accuracy: 0.6795\n",
      "loss: 0.5377215147018433, accuracy: 0.6795\n",
      "loss: 0.5302500128746033, accuracy: 0.6859\n",
      "loss: 0.5232402682304382, accuracy: 0.7179\n",
      "loss: 0.5166375041007996, accuracy: 0.7115\n",
      "loss: 0.5103932619094849, accuracy: 0.7244\n",
      "loss: 0.5044649243354797, accuracy: 0.7308\n",
      "loss: 0.4988151490688324, accuracy: 0.75\n",
      "loss: 0.4934110939502716, accuracy: 0.7885\n",
      "loss: 0.4882240295410156, accuracy: 0.8141\n",
      "loss: 0.4832286238670349, accuracy: 0.8205\n",
      "loss: 0.4784029424190521, accuracy: 0.8205\n",
      "loss: 0.47372758388519287, accuracy: 0.8205\n",
      "loss: 0.4691857695579529, accuracy: 0.8205\n",
      "loss: 0.4647625684738159, accuracy: 0.8269\n",
      "loss: 0.4604453146457672, accuracy: 0.8269\n",
      "loss: 0.45622262358665466, accuracy: 0.8397\n",
      "loss: 0.45208480954170227, accuracy: 0.8462\n",
      "loss: 0.44802314043045044, accuracy: 0.8462\n",
      "loss: 0.44403037428855896, accuracy: 0.859\n",
      "loss: 0.44009965658187866, accuracy: 0.859\n",
      "loss: 0.4362255930900574, accuracy: 0.859\n",
      "loss: 0.432403028011322, accuracy: 0.859\n",
      "loss: 0.42862775921821594, accuracy: 0.8782\n",
      "loss: 0.42489585280418396, accuracy: 0.8782\n",
      "loss: 0.42120400071144104, accuracy: 0.8782\n",
      "loss: 0.41754937171936035, accuracy: 0.8782\n",
      "loss: 0.41392943263053894, accuracy: 0.8846\n",
      "loss: 0.41034188866615295, accuracy: 0.891\n",
      "loss: 0.40678495168685913, accuracy: 0.891\n",
      "loss: 0.40325674414634705, accuracy: 0.891\n",
      "loss: 0.3997558653354645, accuracy: 0.8974\n",
      "loss: 0.39628109335899353, accuracy: 0.8974\n",
      "loss: 0.3928311765193939, accuracy: 0.8974\n",
      "loss: 0.3894052505493164, accuracy: 0.8974\n",
      "loss: 0.3860023617744446, accuracy: 0.8974\n",
      "loss: 0.382621705532074, accuracy: 0.8974\n",
      "loss: 0.37926289439201355, accuracy: 0.8974\n",
      "loss: 0.37592506408691406, accuracy: 0.9038\n",
      "loss: 0.37260791659355164, accuracy: 0.9038\n",
      "loss: 0.36931097507476807, accuracy: 0.9038\n",
      "loss: 0.3660338819026947, accuracy: 0.9103\n",
      "loss: 0.36277639865875244, accuracy: 0.9103\n",
      "loss: 0.35953816771507263, accuracy: 0.9167\n",
      "loss: 0.3563190996646881, accuracy: 0.9167\n",
      "loss: 0.35311901569366455, accuracy: 0.9167\n",
      "loss: 0.34993776679039, accuracy: 0.9167\n",
      "loss: 0.34677526354789734, accuracy: 0.9231\n",
      "loss: 0.34363147616386414, accuracy: 0.9423\n",
      "loss: 0.340506374835968, accuracy: 0.9423\n",
      "loss: 0.3373998999595642, accuracy: 0.9423\n",
      "loss: 0.3343121111392975, accuracy: 0.9487\n",
      "loss: 0.33124294877052307, accuracy: 0.9487\n",
      "loss: 0.32819265127182007, accuracy: 0.9487\n",
      "loss: 0.3251611590385437, accuracy: 0.9487\n",
      "loss: 0.32214853167533875, accuracy: 0.9551\n",
      "loss: 0.31915491819381714, accuracy: 0.9551\n",
      "loss: 0.31618043780326843, accuracy: 0.9551\n",
      "loss: 0.3132251501083374, accuracy: 0.9551\n",
      "loss: 0.31028926372528076, accuracy: 0.9551\n",
      "loss: 0.3073727488517761, accuracy: 0.9615\n"
     ]
    },
    {
     "data": {
      "text/plain": "<Figure size 432x432 with 1 Axes>",
      "image/png": "[encoded data removed]"
     },
     "metadata": {
      "needs_background": "light"
     },
     "output_type": "display_data"
    },
    {
     "name": "stdout",
     "output_type": "stream",
     "text": [
      "loss: 0.30447590351104736, accuracy: 0.9615\n",
      "loss: 0.30159884691238403, accuracy: 0.9679\n",
      "loss: 0.2987416684627533, accuracy: 0.9679\n",
      "loss: 0.2959045469760895, accuracy: 0.9679\n",
      "loss: 0.29308760166168213, accuracy: 0.9679\n",
      "loss: 0.29029104113578796, accuracy: 0.9744\n",
      "loss: 0.28751495480537415, accuracy: 0.9744\n",
      "loss: 0.284759521484375, accuracy: 0.9744\n",
      "loss: 0.2820248603820801, accuracy: 0.9744\n",
      "loss: 0.2793111801147461, accuracy: 0.9744\n",
      "loss: 0.2766185998916626, accuracy: 0.9744\n",
      "loss: 0.27394720911979675, accuracy: 0.9808\n",
      "loss: 0.2712971866130829, accuracy: 0.9808\n",
      "loss: 0.26866865158081055, accuracy: 0.9808\n",
      "loss: 0.2660617530345917, accuracy: 0.9808\n",
      "loss: 0.26347655057907104, accuracy: 0.9808\n",
      "loss: 0.260913223028183, accuracy: 0.9808\n",
      "loss: 0.25837182998657227, accuracy: 0.9808\n",
      "loss: 0.25585252046585083, accuracy: 0.9872\n",
      "loss: 0.25335535407066345, accuracy: 0.9872\n",
      "loss: 0.2508803606033325, accuracy: 0.9872\n",
      "loss: 0.24842770397663116, accuracy: 0.9872\n",
      "loss: 0.245997354388237, accuracy: 0.9872\n",
      "loss: 0.24358947575092316, accuracy: 0.9872\n",
      "loss: 0.24120406806468964, accuracy: 0.9872\n",
      "loss: 0.23884117603302002, accuracy: 0.9872\n",
      "loss: 0.2365008443593979, accuracy: 0.9872\n",
      "loss: 0.23418307304382324, accuracy: 0.9872\n",
      "loss: 0.23188792169094086, accuracy: 0.9872\n",
      "loss: 0.22961536049842834, accuracy: 0.9872\n",
      "loss: 0.2273653894662857, accuracy: 0.9872\n",
      "loss: 0.22513802349567413, accuracy: 0.9872\n",
      "loss: 0.22293326258659363, accuracy: 0.9872\n",
      "loss: 0.22075097262859344, accuracy: 0.9872\n",
      "loss: 0.21859124302864075, accuracy: 0.9872\n",
      "loss: 0.21645399928092957, accuracy: 0.9872\n",
      "loss: 0.21433915197849274, accuracy: 0.9872\n",
      "loss: 0.21224667131900787, accuracy: 0.9872\n",
      "loss: 0.2101765125989914, accuracy: 0.9872\n",
      "loss: 0.20812855660915375, accuracy: 0.9872\n",
      "loss: 0.20610274374485016, accuracy: 0.9872\n",
      "loss: 0.20409898459911346, accuracy: 0.9872\n",
      "loss: 0.2021171897649765, accuracy: 0.9872\n",
      "loss: 0.2001572549343109, accuracy: 0.9936\n",
      "loss: 0.19821906089782715, accuracy: 0.9936\n",
      "loss: 0.19630253314971924, accuracy: 0.9936\n",
      "loss: 0.19440749287605286, accuracy: 0.9936\n",
      "loss: 0.19253388047218323, accuracy: 0.9936\n",
      "loss: 0.19068153202533722, accuracy: 0.9936\n",
      "loss: 0.1888503134250641, accuracy: 0.9936\n",
      "loss: 0.18704009056091309, accuracy: 0.9936\n",
      "loss: 0.18525069952011108, accuracy: 0.9936\n",
      "loss: 0.18348200619220734, accuracy: 0.9936\n",
      "loss: 0.1817338764667511, accuracy: 0.9936\n",
      "loss: 0.18000613152980804, accuracy: 0.9936\n",
      "loss: 0.17829862236976624, accuracy: 0.9936\n",
      "loss: 0.17661115527153015, accuracy: 0.9936\n",
      "loss: 0.17494362592697144, accuracy: 0.9936\n",
      "loss: 0.17329581081867218, accuracy: 0.9936\n",
      "loss: 0.17166756093502045, accuracy: 0.9936\n",
      "loss: 0.1700587123632431, accuracy: 0.9936\n",
      "loss: 0.16846902668476105, accuracy: 0.9936\n",
      "loss: 0.1668984293937683, accuracy: 0.9936\n",
      "loss: 0.1653466522693634, accuracy: 0.9936\n",
      "loss: 0.1638135462999344, accuracy: 0.9936\n",
      "loss: 0.16229891777038574, accuracy: 0.9936\n",
      "loss: 0.16080261766910553, accuracy: 0.9936\n",
      "loss: 0.15932442247867584, accuracy: 0.9936\n",
      "loss: 0.15786416828632355, accuracy: 0.9936\n",
      "loss: 0.15642164647579193, accuracy: 0.9936\n",
      "loss: 0.15499670803546906, accuracy: 0.9936\n",
      "loss: 0.15358909964561462, accuracy: 0.9936\n",
      "loss: 0.15219871699810028, accuracy: 0.9936\n",
      "loss: 0.15082527697086334, accuracy: 0.9936\n",
      "loss: 0.14946869015693665, accuracy: 0.9936\n",
      "loss: 0.1481286883354187, accuracy: 0.9936\n",
      "loss: 0.14680513739585876, accuracy: 0.9936\n",
      "loss: 0.14549782872200012, accuracy: 0.9936\n",
      "loss: 0.14420655369758606, accuracy: 0.9936\n",
      "loss: 0.14293114840984344, accuracy: 0.9936\n",
      "loss: 0.14167143404483795, accuracy: 0.9936\n",
      "loss: 0.14042721688747406, accuracy: 0.9936\n",
      "loss: 0.13919830322265625, accuracy: 0.9936\n",
      "loss: 0.1379845291376114, accuracy: 0.9936\n",
      "loss: 0.13678570091724396, accuracy: 0.9936\n",
      "loss: 0.13560162484645844, accuracy: 0.9936\n",
      "loss: 0.1344321370124817, accuracy: 0.9936\n",
      "loss: 0.1332770586013794, accuracy: 0.9936\n",
      "loss: 0.13213622570037842, accuracy: 0.9936\n",
      "loss: 0.13100941479206085, accuracy: 0.9936\n",
      "loss: 0.12989647686481476, accuracy: 0.9936\n",
      "loss: 0.128797248005867, accuracy: 0.9936\n",
      "loss: 0.12771156430244446, accuracy: 0.9936\n",
      "loss: 0.1266392022371292, accuracy: 0.9936\n",
      "loss: 0.12558002769947052, accuracy: 0.9936\n",
      "loss: 0.12453388422727585, accuracy: 0.9936\n",
      "loss: 0.12350060045719147, accuracy: 0.9936\n",
      "loss: 0.12247999012470245, accuracy: 0.9936\n",
      "loss: 0.12147190421819687, accuracy: 0.9936\n",
      "loss: 0.12047617137432098, accuracy: 0.9936\n"
     ]
    },
    {
     "data": {
      "text/plain": "<Figure size 432x432 with 1 Axes>",
      "image/png": "[encoded data removed]"
     },
     "metadata": {
      "needs_background": "light"
     },
     "output_type": "display_data"
    },
    {
     "name": "stdout",
     "output_type": "stream",
     "text": [
      "loss: 0.11949262768030167, accuracy: 0.9936\n",
      "loss: 0.11852116137742996, accuracy: 0.9936\n",
      "loss: 0.11756153404712677, accuracy: 0.9936\n",
      "loss: 0.11661364138126373, accuracy: 0.9936\n",
      "loss: 0.11567734181880951, accuracy: 0.9936\n",
      "loss: 0.11475242674350739, accuracy: 0.9936\n",
      "loss: 0.1138388067483902, accuracy: 0.9936\n",
      "loss: 0.11293630301952362, accuracy: 0.9936\n",
      "loss: 0.11204477399587631, accuracy: 0.9936\n",
      "loss: 0.11116405576467514, accuracy: 0.9936\n",
      "loss: 0.11029402166604996, accuracy: 0.9936\n",
      "loss: 0.10943453013896942, accuracy: 0.9936\n",
      "loss: 0.10858545452356339, accuracy: 0.9936\n",
      "loss: 0.10774660110473633, accuracy: 0.9936\n",
      "loss: 0.10691789537668228, accuracy: 0.9936\n",
      "loss: 0.10609916597604752, accuracy: 0.9936\n",
      "loss: 0.10529029369354248, accuracy: 0.9936\n",
      "loss: 0.10449113696813583, accuracy: 0.9936\n",
      "loss: 0.10370156913995743, accuracy: 0.9936\n",
      "loss: 0.10292144864797592, accuracy: 0.9936\n",
      "loss: 0.10215067118406296, accuracy: 0.9936\n",
      "loss: 0.10138911008834839, accuracy: 0.9936\n",
      "loss: 0.10063660144805908, accuracy: 0.9936\n",
      "loss: 0.09989306330680847, accuracy: 0.9936\n",
      "loss: 0.09915836900472641, accuracy: 0.9936\n",
      "loss: 0.09843237698078156, accuracy: 0.9936\n",
      "loss: 0.09771499037742615, accuracy: 0.9936\n",
      "loss: 0.09700608998537064, accuracy: 0.9936\n",
      "loss: 0.09630555659532547, accuracy: 0.9936\n",
      "loss: 0.0956132635474205, accuracy: 0.9936\n",
      "loss: 0.09492912888526917, accuracy: 0.9936\n",
      "loss: 0.09425301104784012, accuracy: 0.9936\n",
      "loss: 0.0935848206281662, accuracy: 0.9936\n",
      "loss: 0.09292444586753845, accuracy: 0.9936\n",
      "loss: 0.09227177500724792, accuracy: 0.9936\n",
      "loss: 0.09162669628858566, accuracy: 0.9936\n",
      "loss: 0.0909891352057457, accuracy: 0.9936\n",
      "loss: 0.09035895019769669, accuracy: 0.9936\n",
      "loss: 0.08973608165979385, accuracy: 0.9936\n",
      "loss: 0.08912040293216705, accuracy: 0.9936\n",
      "loss: 0.08851182460784912, accuracy: 0.9936\n",
      "loss: 0.0879102498292923, accuracy: 0.9936\n",
      "loss: 0.08731557428836823, accuracy: 0.9936\n",
      "loss: 0.08672771602869034, accuracy: 0.9936\n",
      "loss: 0.08614657819271088, accuracy: 0.9936\n",
      "loss: 0.08557208627462387, accuracy: 0.9936\n",
      "loss: 0.08500411361455917, accuracy: 0.9936\n",
      "loss: 0.0844426155090332, accuracy: 0.9936\n",
      "loss: 0.08388746529817581, accuracy: 0.9936\n",
      "loss: 0.08333858847618103, accuracy: 0.9936\n",
      "loss: 0.08279591053724289, accuracy: 0.9936\n",
      "loss: 0.08225936442613602, accuracy: 0.9936\n",
      "loss: 0.08172880113124847, accuracy: 0.9936\n",
      "loss: 0.08120420575141907, accuracy: 0.9936\n",
      "loss: 0.08068547397851944, accuracy: 0.9936\n",
      "loss: 0.08017252385616302, accuracy: 0.9936\n",
      "loss: 0.07966528832912445, accuracy: 0.9936\n",
      "loss: 0.07916367053985596, accuracy: 0.9936\n",
      "loss: 0.07866761833429337, accuracy: 0.9936\n",
      "loss: 0.07817704230546951, accuracy: 0.9936\n",
      "loss: 0.07769186794757843, accuracy: 0.9936\n",
      "loss: 0.07721203565597534, accuracy: 0.9936\n",
      "loss: 0.07673745602369308, accuracy: 0.9936\n",
      "loss: 0.07626807689666748, accuracy: 0.9936\n",
      "loss: 0.07580380886793137, accuracy: 0.9936\n",
      "loss: 0.07534459233283997, accuracy: 0.9936\n",
      "loss: 0.0748903676867485, accuracy: 0.9936\n",
      "loss: 0.07444107532501221, accuracy: 0.9936\n",
      "loss: 0.07399660348892212, accuracy: 0.9936\n",
      "loss: 0.07355694472789764, accuracy: 0.9936\n",
      "loss: 0.07312200218439102, accuracy: 0.9936\n",
      "loss: 0.07269171625375748, accuracy: 0.9936\n",
      "loss: 0.07226604223251343, accuracy: 0.9936\n",
      "loss: 0.07184489816427231, accuracy: 0.9936\n",
      "loss: 0.07142821699380875, accuracy: 0.9936\n",
      "loss: 0.07101599127054214, accuracy: 0.9936\n",
      "loss: 0.07060810178518295, accuracy: 0.9936\n",
      "loss: 0.07020451128482819, accuracy: 0.9936\n",
      "loss: 0.06980517506599426, accuracy: 0.9936\n",
      "loss: 0.069410040974617, accuracy: 0.9936\n",
      "loss: 0.06901902705430984, accuracy: 0.9936\n",
      "loss: 0.0686321035027504, accuracy: 0.9936\n",
      "loss: 0.06824919581413269, accuracy: 0.9936\n",
      "loss: 0.06787026673555374, accuracy: 0.9936\n",
      "loss: 0.06749526411294937, accuracy: 0.9936\n",
      "loss: 0.067124143242836, accuracy: 0.9936\n",
      "loss: 0.06675683706998825, accuracy: 0.9936\n",
      "loss: 0.06639329344034195, accuracy: 0.9936\n",
      "loss: 0.06603346765041351, accuracy: 0.9936\n",
      "loss: 0.06567732244729996, accuracy: 0.9936\n",
      "loss: 0.0653248131275177, accuracy: 0.9936\n",
      "loss: 0.06497587263584137, accuracy: 0.9936\n",
      "loss: 0.06463047862052917, accuracy: 0.9936\n",
      "loss: 0.06428855657577515, accuracy: 0.9936\n",
      "loss: 0.06395009160041809, accuracy: 0.9936\n",
      "loss: 0.06361501663923264, accuracy: 0.9936\n",
      "loss: 0.0632832944393158, accuracy: 0.9936\n",
      "loss: 0.06295488774776459, accuracy: 0.9936\n",
      "loss: 0.06262975186109543, accuracy: 0.9936\n",
      "loss: 0.062307845801115036, accuracy: 0.9936\n"
     ]
    },
    {
     "data": {
      "text/plain": "<Figure size 432x432 with 1 Axes>",
      "image/png": "[encoded data removed]"
     },
     "metadata": {
      "needs_background": "light"
     },
     "output_type": "display_data"
    },
    {
     "name": "stdout",
     "output_type": "stream",
     "text": [
      "loss: 0.06198912858963013, accuracy: 0.9936\n",
      "loss: 0.06167354807257652, accuracy: 0.9936\n",
      "loss: 0.06136108562350273, accuracy: 0.9936\n",
      "loss: 0.06105168163776398, accuracy: 0.9936\n",
      "loss: 0.06074531376361847, accuracy: 0.9936\n",
      "loss: 0.06044192239642143, accuracy: 0.9936\n",
      "loss: 0.06014149636030197, accuracy: 0.9936\n",
      "loss: 0.059843990951776505, accuracy: 0.9936\n",
      "loss: 0.05954934284090996, accuracy: 0.9936\n",
      "loss: 0.05925756320357323, accuracy: 0.9936\n",
      "loss: 0.058968570083379745, accuracy: 0.9936\n",
      "loss: 0.05868235602974892, accuracy: 0.9936\n",
      "loss: 0.058398883789777756, accuracy: 0.9936\n",
      "loss: 0.05811811238527298, accuracy: 0.9936\n",
      "loss: 0.0578400157392025, accuracy: 0.9936\n",
      "loss: 0.057564545422792435, accuracy: 0.9936\n",
      "loss: 0.05729169026017189, accuracy: 0.9936\n",
      "loss: 0.05702139809727669, accuracy: 0.9936\n",
      "loss: 0.05675366148352623, accuracy: 0.9936\n",
      "loss: 0.05648842081427574, accuracy: 0.9936\n",
      "loss: 0.05622566118836403, accuracy: 0.9936\n",
      "loss: 0.055965349078178406, accuracy: 0.9936\n",
      "loss: 0.05570746585726738, accuracy: 0.9936\n",
      "loss: 0.05545196682214737, accuracy: 0.9936\n",
      "loss: 0.05519882217049599, accuracy: 0.9936\n",
      "loss: 0.05494801327586174, accuracy: 0.9936\n",
      "loss: 0.05469951406121254, accuracy: 0.9936\n",
      "loss: 0.054453276097774506, accuracy: 0.9936\n",
      "loss: 0.05420928820967674, accuracy: 0.9936\n",
      "loss: 0.05396753177046776, accuracy: 0.9936\n",
      "loss: 0.05372796207666397, accuracy: 0.9936\n",
      "loss: 0.05349056422710419, accuracy: 0.9936\n",
      "loss: 0.05325530096888542, accuracy: 0.9936\n",
      "loss: 0.053022172302007675, accuracy: 0.9936\n",
      "loss: 0.05279112607240677, accuracy: 0.9936\n",
      "loss: 0.05256213992834091, accuracy: 0.9936\n",
      "loss: 0.05233520269393921, accuracy: 0.9936\n",
      "loss: 0.05211027339100838, accuracy: 0.9936\n",
      "loss: 0.05188735947012901, accuracy: 0.9936\n",
      "loss: 0.051666393876075745, accuracy: 0.9936\n",
      "loss: 0.05144738405942917, accuracy: 0.9936\n",
      "loss: 0.051230303943157196, accuracy: 0.9936\n",
      "loss: 0.05101512745022774, accuracy: 0.9936\n",
      "loss: 0.050801824778318405, accuracy: 0.9936\n",
      "loss: 0.05059037357568741, accuracy: 0.9936\n",
      "loss: 0.050380781292915344, accuracy: 0.9936\n",
      "loss: 0.05017298832535744, accuracy: 0.9936\n",
      "loss: 0.04996698722243309, accuracy: 0.9936\n",
      "loss: 0.04976276680827141, accuracy: 0.9936\n",
      "loss: 0.0495603010058403, accuracy: 0.9936\n",
      "loss: 0.04935956373810768, accuracy: 0.9936\n",
      "loss: 0.049160540103912354, accuracy: 0.9936\n",
      "loss: 0.04896321892738342, accuracy: 0.9936\n",
      "loss: 0.048767559230327606, accuracy: 0.9936\n",
      "loss: 0.048573579639196396, accuracy: 0.9936\n",
      "loss: 0.04838121309876442, accuracy: 0.9936\n",
      "loss: 0.048190467059612274, accuracy: 0.9936\n",
      "loss: 0.048001330345869064, accuracy: 0.9936\n",
      "loss: 0.047813765704631805, accuracy: 0.9936\n",
      "loss: 0.0476277731359005, accuracy: 0.9936\n",
      "loss: 0.04744332283735275, accuracy: 0.9936\n",
      "loss: 0.04726041108369827, accuracy: 0.9936\n",
      "loss: 0.04707900062203407, accuracy: 0.9936\n",
      "loss: 0.04689908027648926, accuracy: 0.9936\n",
      "loss: 0.04672065004706383, accuracy: 0.9936\n",
      "loss: 0.046543680131435394, accuracy: 0.9936\n",
      "loss: 0.046368155628442764, accuracy: 0.9936\n",
      "loss: 0.04619406536221504, accuracy: 0.9936\n",
      "loss: 0.04602137953042984, accuracy: 0.9936\n",
      "loss: 0.04585009813308716, accuracy: 0.9936\n",
      "loss: 0.0456802062690258, accuracy: 0.9936\n",
      "loss: 0.045511674135923386, accuracy: 0.9936\n",
      "loss: 0.04534449800848961, accuracy: 0.9936\n",
      "loss: 0.04517865926027298, accuracy: 0.9936\n",
      "loss: 0.0450141541659832, accuracy: 0.9936\n",
      "loss: 0.044850949198007584, accuracy: 0.9936\n",
      "loss: 0.04468904435634613, accuracy: 0.9936\n",
      "loss: 0.04452842101454735, accuracy: 0.9936\n",
      "loss: 0.04436906799674034, accuracy: 0.9936\n",
      "loss: 0.044210970401763916, accuracy: 0.9936\n",
      "loss: 0.04405410215258598, accuracy: 0.9936\n",
      "loss: 0.04389847069978714, accuracy: 0.9936\n",
      "loss: 0.0437440499663353, accuracy: 0.9936\n",
      "loss: 0.043590839952230453, accuracy: 0.9936\n",
      "loss: 0.04343881830573082, accuracy: 0.9936\n",
      "loss: 0.0432879664003849, accuracy: 0.9936\n",
      "loss: 0.043138276785612106, accuracy: 0.9936\n",
      "loss: 0.04298974946141243, accuracy: 0.9936\n",
      "loss: 0.04284236207604408, accuracy: 0.9936\n",
      "loss: 0.04269609600305557, accuracy: 0.9936\n",
      "loss: 0.042550936341285706, accuracy: 0.9936\n",
      "loss: 0.042406897991895676, accuracy: 0.9936\n",
      "loss: 0.0422639437019825, accuracy: 0.9936\n",
      "loss: 0.042122066020965576, accuracy: 0.9936\n",
      "loss: 0.04198126867413521, accuracy: 0.9936\n",
      "loss: 0.0418415293097496, accuracy: 0.9936\n",
      "loss: 0.041702840477228165, accuracy: 0.9936\n",
      "loss: 0.0415651835501194, accuracy: 0.9936\n",
      "loss: 0.04142855852842331, accuracy: 0.9936\n",
      "loss: 0.0412929430603981, accuracy: 0.9936\n"
     ]
    },
    {
     "data": {
      "text/plain": "<Figure size 432x432 with 1 Axes>",
      "image/png": "[encoded data removed]"
     },
     "metadata": {
      "needs_background": "light"
     },
     "output_type": "display_data"
    },
    {
     "name": "stdout",
     "output_type": "stream",
     "text": [
      "loss: 0.041158340871334076, accuracy: 0.9936\n",
      "loss: 0.04102472588419914, accuracy: 0.9936\n",
      "loss: 0.0408921055495739, accuracy: 0.9936\n",
      "loss: 0.04076045751571655, accuracy: 0.9936\n",
      "loss: 0.04062977805733681, accuracy: 0.9936\n",
      "loss: 0.04050004854798317, accuracy: 0.9936\n",
      "loss: 0.04037127271294594, accuracy: 0.9936\n",
      "loss: 0.04024342820048332, accuracy: 0.9936\n",
      "loss: 0.040116507560014725, accuracy: 0.9936\n",
      "loss: 0.03999051824212074, accuracy: 0.9936\n",
      "loss: 0.03986543044447899, accuracy: 0.9936\n",
      "loss: 0.03974124789237976, accuracy: 0.9936\n",
      "loss: 0.039617955684661865, accuracy: 0.9936\n",
      "loss: 0.03949553892016411, accuracy: 0.9936\n",
      "loss: 0.03937400504946709, accuracy: 0.9936\n",
      "loss: 0.03925333172082901, accuracy: 0.9936\n",
      "loss: 0.03913350775837898, accuracy: 0.9936\n",
      "loss: 0.0390145443379879, accuracy: 0.9936\n",
      "loss: 0.03889641910791397, accuracy: 0.9936\n",
      "loss: 0.0387791246175766, accuracy: 0.9936\n",
      "loss: 0.03866264224052429, accuracy: 0.9936\n",
      "loss: 0.03854698687791824, accuracy: 0.9936\n",
      "loss: 0.03843213990330696, accuracy: 0.9936\n",
      "loss: 0.03831808269023895, accuracy: 0.9936\n",
      "loss: 0.03820483013987541, accuracy: 0.9936\n",
      "loss: 0.03809235990047455, accuracy: 0.9936\n",
      "loss: 0.037980660796165466, accuracy: 0.9936\n",
      "loss: 0.03786974400281906, accuracy: 0.9936\n",
      "loss: 0.037759583443403244, accuracy: 0.9936\n",
      "loss: 0.03765016421675682, accuracy: 0.9936\n",
      "loss: 0.037541504949331284, accuracy: 0.9936\n",
      "loss: 0.03743358328938484, accuracy: 0.9936\n",
      "loss: 0.0373263955116272, accuracy: 0.9936\n",
      "loss: 0.03721994161605835, accuracy: 0.9936\n",
      "loss: 0.03711420297622681, accuracy: 0.9936\n",
      "loss: 0.03700916841626167, accuracy: 0.9936\n",
      "loss: 0.03690485283732414, accuracy: 0.9936\n",
      "loss: 0.03680124133825302, accuracy: 0.9936\n",
      "loss: 0.03669831529259682, accuracy: 0.9936\n",
      "loss: 0.03659606724977493, accuracy: 0.9936\n",
      "loss: 0.03649451211094856, accuracy: 0.9936\n",
      "loss: 0.03639362379908562, accuracy: 0.9936\n",
      "loss: 0.03629341349005699, accuracy: 0.9936\n",
      "loss: 0.0361938551068306, accuracy: 0.9936\n",
      "loss: 0.03609495609998703, accuracy: 0.9936\n",
      "loss: 0.035996709018945694, accuracy: 0.9936\n",
      "loss: 0.03589910641312599, accuracy: 0.9936\n",
      "loss: 0.03580213338136673, accuracy: 0.9936\n",
      "loss: 0.0357058048248291, accuracy: 0.9936\n",
      "loss: 0.03561008721590042, accuracy: 0.9936\n",
      "loss: 0.03551500290632248, accuracy: 0.9936\n",
      "loss: 0.035420529544353485, accuracy: 0.9936\n",
      "loss: 0.03532666712999344, accuracy: 0.9936\n",
      "loss: 0.035233404487371445, accuracy: 0.9936\n",
      "loss: 0.0351407453417778, accuracy: 0.9936\n",
      "loss: 0.03504868224263191, accuracy: 0.9936\n",
      "loss: 0.03495720028877258, accuracy: 0.9936\n",
      "loss: 0.03486630320549011, accuracy: 0.9936\n",
      "loss: 0.034775979816913605, accuracy: 0.9936\n",
      "loss: 0.03468623012304306, accuracy: 0.9936\n",
      "loss: 0.03459705039858818, accuracy: 0.9936\n",
      "loss: 0.03450842946767807, accuracy: 0.9936\n",
      "loss: 0.03442036733031273, accuracy: 0.9936\n",
      "loss: 0.03433286398649216, accuracy: 0.9936\n",
      "loss: 0.03424590080976486, accuracy: 0.9936\n",
      "loss: 0.034159474074840546, accuracy: 0.9936\n",
      "loss: 0.0340735986828804, accuracy: 0.9936\n",
      "loss: 0.03398824855685234, accuracy: 0.9936\n",
      "loss: 0.03390342742204666, accuracy: 0.9936\n",
      "loss: 0.03381913900375366, accuracy: 0.9936\n",
      "loss: 0.033735357224941254, accuracy: 0.9936\n",
      "loss: 0.03365209326148033, accuracy: 0.9936\n",
      "loss: 0.0335693433880806, accuracy: 0.9936\n",
      "loss: 0.03348710387945175, accuracy: 0.9936\n",
      "loss: 0.0334053561091423, accuracy: 0.9936\n",
      "loss: 0.03332410752773285, accuracy: 0.9936\n",
      "loss: 0.03324335440993309, accuracy: 0.9936\n",
      "loss: 0.03316309675574303, accuracy: 0.9936\n",
      "loss: 0.033083315938711166, accuracy: 0.9936\n",
      "loss: 0.03300401195883751, accuracy: 0.9936\n",
      "loss: 0.03292519599199295, accuracy: 0.9936\n",
      "loss: 0.0328468382358551, accuracy: 0.9936\n",
      "loss: 0.032768961042165756, accuracy: 0.9936\n",
      "loss: 0.03269154578447342, accuracy: 0.9936\n",
      "loss: 0.032614581286907196, accuracy: 0.9936\n",
      "loss: 0.03253808990120888, accuracy: 0.9936\n",
      "loss: 0.032462045550346375, accuracy: 0.9936\n",
      "loss: 0.03238644823431969, accuracy: 0.9936\n",
      "loss: 0.032311294227838516, accuracy: 0.9936\n",
      "loss: 0.03223658353090286, accuracy: 0.9936\n",
      "loss: 0.032162316143512726, accuracy: 0.9936\n",
      "loss: 0.03208847716450691, accuracy: 0.9936\n",
      "loss: 0.03201507031917572, accuracy: 0.9936\n",
      "loss: 0.03194208815693855, accuracy: 0.9936\n",
      "loss: 0.03186953067779541, accuracy: 0.9936\n",
      "loss: 0.03179739788174629, accuracy: 0.9936\n",
      "loss: 0.0317256860435009, accuracy: 0.9936\n",
      "loss: 0.03165438026189804, accuracy: 0.9936\n",
      "loss: 0.03158348426222801, accuracy: 0.9936\n",
      "loss: 0.031512998044490814, accuracy: 0.9936\n"
     ]
    }
   ]
  },
  {
   "cell_type": "markdown",
   "metadata": {
    "id": "WX2PSXnTDiNi"
   },
   "source": [
    "## Visualize the final node embeddings\n",
    "Visualize your final embedding here! \n",
    "You can visually compare the figure with the previous embedding figure. \n",
    "After training, you should oberserve that the two classes are more evidently separated. \n",
    "This is a great sanitity check for your implementation as well."
   ]
  },
  {
   "cell_type": "code",
   "metadata": {
    "id": "MtNgl4VhYKow"
   },
   "source": [
    "# Visualize the final learned embedding\n",
    "visualize_emb(emb)"
   ],
   "execution_count": 93,
   "outputs": [
    {
     "data": {
      "text/plain": "<Figure size 432x432 with 1 Axes>",
      "image/png": "[encoded data removed]"
     },
     "metadata": {
      "needs_background": "light"
     },
     "output_type": "display_data"
    }
   ]
  },
  {
   "cell_type": "markdown",
   "metadata": {
    "id": "FTNyrAoSVeq9"
   },
   "source": [
    "# Submission"
   ]
  },
  {
   "cell_type": "markdown",
   "metadata": {
    "id": "E_E7J_GkVhY_"
   },
   "source": [
    "In order to get credit, you must go submit your answers on Gradescope."
   ]
  }
 ]
}